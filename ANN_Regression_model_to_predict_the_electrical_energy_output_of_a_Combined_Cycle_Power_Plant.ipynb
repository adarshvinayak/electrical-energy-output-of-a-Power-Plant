{
  "nbformat": 4,
  "nbformat_minor": 0,
  "metadata": {
    "colab": {
      "name": "ANN Regression model to predict the electrical energy output of a Combined Cycle Power Plant",
      "provenance": [],
      "collapsed_sections": []
    },
    "kernelspec": {
      "name": "python3",
      "display_name": "Python 3"
    }
  },
  "cells": [
    {
      "cell_type": "markdown",
      "metadata": {
        "id": "3cbb7fRy-eyr",
        "colab_type": "text"
      },
      "source": [
        "# Artificial Neural Network"
      ]
    },
    {
      "cell_type": "markdown",
      "metadata": {
        "id": "GCIC5XzjvoAr",
        "colab_type": "text"
      },
      "source": [
        "**Dataset from** https://archive.ics.uci.edu/ml/datasets/Combined+Cycle+Power+Plant"
      ]
    },
    {
      "cell_type": "markdown",
      "metadata": {
        "id": "8sNDnxE2-pwE",
        "colab_type": "text"
      },
      "source": [
        "### Importing the libraries"
      ]
    },
    {
      "cell_type": "code",
      "metadata": {
        "id": "ymfPk0J3WEFM",
        "colab_type": "code",
        "colab": {}
      },
      "source": [
        "import pandas as pd\n",
        "import numpy as np\n",
        "import tensorflow as tf"
      ],
      "execution_count": 0,
      "outputs": []
    },
    {
      "cell_type": "code",
      "metadata": {
        "id": "WmD9rCIsWX_N",
        "colab_type": "code",
        "outputId": "a471e0d7-34fd-47e4-da33-91df326eaf9f",
        "colab": {
          "base_uri": "https://localhost:8080/",
          "height": 35
        }
      },
      "source": [
        "tf.__version__"
      ],
      "execution_count": 0,
      "outputs": [
        {
          "output_type": "execute_result",
          "data": {
            "text/plain": [
              "'2.2.0'"
            ]
          },
          "metadata": {
            "tags": []
          },
          "execution_count": 2
        }
      ]
    },
    {
      "cell_type": "markdown",
      "metadata": {
        "id": "AG3FQEch-yuA",
        "colab_type": "text"
      },
      "source": [
        "## Part 1 - Data Preprocessing"
      ]
    },
    {
      "cell_type": "markdown",
      "metadata": {
        "id": "-4zq8Mza_D9O",
        "colab_type": "text"
      },
      "source": [
        "### Importing the dataset"
      ]
    },
    {
      "cell_type": "code",
      "metadata": {
        "id": "IGgM_KG3YmZv",
        "colab_type": "code",
        "colab": {}
      },
      "source": [
        "dataset = pd.read_excel('Folds5x2_pp.xlsx')\n",
        "X = dataset.iloc[:,:-1].values\n",
        "y = dataset.iloc[:,-1].values"
      ],
      "execution_count": 0,
      "outputs": []
    },
    {
      "cell_type": "markdown",
      "metadata": {
        "id": "VC6omXel_Up0",
        "colab_type": "text"
      },
      "source": [
        "### Splitting the dataset into the Training set and Test set"
      ]
    },
    {
      "cell_type": "code",
      "metadata": {
        "id": "x3kbRzwaaeWH",
        "colab_type": "code",
        "colab": {}
      },
      "source": [
        "from sklearn.model_selection import train_test_split\n",
        "X_train, X_test, y_train, y_test = train_test_split(X, y, test_size = 0.2, random_state = 0)"
      ],
      "execution_count": 0,
      "outputs": []
    },
    {
      "cell_type": "markdown",
      "metadata": {
        "id": "_mSLlAT9_eyI",
        "colab_type": "text"
      },
      "source": [
        "## Part 2 - Building the ANN"
      ]
    },
    {
      "cell_type": "markdown",
      "metadata": {
        "id": "CsBULd_f_wLY",
        "colab_type": "text"
      },
      "source": [
        "### Initializing the ANN"
      ]
    },
    {
      "cell_type": "code",
      "metadata": {
        "id": "vtVdKm8nbiA1",
        "colab_type": "code",
        "colab": {}
      },
      "source": [
        "ann = tf.keras.models.Sequential()"
      ],
      "execution_count": 0,
      "outputs": []
    },
    {
      "cell_type": "markdown",
      "metadata": {
        "id": "iitAFJS_ABUn",
        "colab_type": "text"
      },
      "source": [
        "### Adding the input layer and the first hidden layer"
      ]
    },
    {
      "cell_type": "code",
      "metadata": {
        "id": "zH4atfvLc4dQ",
        "colab_type": "code",
        "colab": {}
      },
      "source": [
        "ann.add(tf.keras.layers.Dense(units = 6, activation='relu'))"
      ],
      "execution_count": 0,
      "outputs": []
    },
    {
      "cell_type": "markdown",
      "metadata": {
        "id": "-lb4kK_wAKbs",
        "colab_type": "text"
      },
      "source": [
        "### Adding the second hidden layer"
      ]
    },
    {
      "cell_type": "code",
      "metadata": {
        "id": "r9XTIWZoeAmI",
        "colab_type": "code",
        "colab": {}
      },
      "source": [
        "ann.add(tf.keras.layers.Dense(units = 6, activation='relu'))"
      ],
      "execution_count": 0,
      "outputs": []
    },
    {
      "cell_type": "markdown",
      "metadata": {
        "id": "jwMOmKb3AdBY",
        "colab_type": "text"
      },
      "source": [
        "### Adding the output layer"
      ]
    },
    {
      "cell_type": "code",
      "metadata": {
        "id": "Uhhw4SoLedM2",
        "colab_type": "code",
        "colab": {}
      },
      "source": [
        "ann.add(tf.keras.layers.Dense(units = 1)) "
      ],
      "execution_count": 0,
      "outputs": []
    },
    {
      "cell_type": "markdown",
      "metadata": {
        "id": "fq7e4fF6A1yy",
        "colab_type": "text"
      },
      "source": [
        "## Part 3 - Training the ANN"
      ]
    },
    {
      "cell_type": "markdown",
      "metadata": {
        "id": "qDeylAs2An25",
        "colab_type": "text"
      },
      "source": [
        "### Compiling the ANN"
      ]
    },
    {
      "cell_type": "code",
      "metadata": {
        "id": "CqzYp4z8erxu",
        "colab_type": "code",
        "colab": {}
      },
      "source": [
        "ann.compile(optimizer = 'adam', loss = 'mean_squared_error')"
      ],
      "execution_count": 0,
      "outputs": []
    },
    {
      "cell_type": "markdown",
      "metadata": {
        "id": "YjVuiybYOo7r",
        "colab_type": "text"
      },
      "source": [
        "### Training the ANN model on the Training set"
      ]
    },
    {
      "cell_type": "code",
      "metadata": {
        "id": "9vl_YRvqf7nT",
        "colab_type": "code",
        "outputId": "71c28a0b-176d-4234-9c5a-0ebbc4c5a3e8",
        "colab": {
          "base_uri": "https://localhost:8080/",
          "height": 1000
        }
      },
      "source": [
        "ann.fit(X_train, y_train, batch_size = 32, epochs = 100)"
      ],
      "execution_count": 0,
      "outputs": [
        {
          "output_type": "stream",
          "text": [
            "Epoch 1/100\n",
            "240/240 [==============================] - 0s 1ms/step - loss: 24.1460\n",
            "Epoch 2/100\n",
            "240/240 [==============================] - 0s 1ms/step - loss: 24.0979\n",
            "Epoch 3/100\n",
            "240/240 [==============================] - 0s 1ms/step - loss: 24.3511\n",
            "Epoch 4/100\n",
            "240/240 [==============================] - 0s 1ms/step - loss: 23.9018\n",
            "Epoch 5/100\n",
            "240/240 [==============================] - 0s 1ms/step - loss: 24.0051\n",
            "Epoch 6/100\n",
            "240/240 [==============================] - 0s 1ms/step - loss: 23.9600\n",
            "Epoch 7/100\n",
            "240/240 [==============================] - 0s 1ms/step - loss: 24.0998\n",
            "Epoch 8/100\n",
            "240/240 [==============================] - 0s 1ms/step - loss: 24.1783\n",
            "Epoch 9/100\n",
            "240/240 [==============================] - 0s 1ms/step - loss: 24.0400\n",
            "Epoch 10/100\n",
            "240/240 [==============================] - 0s 1ms/step - loss: 24.3065\n",
            "Epoch 11/100\n",
            "240/240 [==============================] - 0s 1ms/step - loss: 24.1052\n",
            "Epoch 12/100\n",
            "240/240 [==============================] - 0s 1ms/step - loss: 23.9783\n",
            "Epoch 13/100\n",
            "240/240 [==============================] - 0s 1ms/step - loss: 23.9211\n",
            "Epoch 14/100\n",
            "240/240 [==============================] - 0s 1ms/step - loss: 23.8527\n",
            "Epoch 15/100\n",
            "240/240 [==============================] - 0s 1ms/step - loss: 23.8565\n",
            "Epoch 16/100\n",
            "240/240 [==============================] - 0s 1ms/step - loss: 23.9389\n",
            "Epoch 17/100\n",
            "240/240 [==============================] - 0s 1ms/step - loss: 23.7971\n",
            "Epoch 18/100\n",
            "240/240 [==============================] - 0s 1ms/step - loss: 24.2516\n",
            "Epoch 19/100\n",
            "240/240 [==============================] - 0s 1ms/step - loss: 23.7473\n",
            "Epoch 20/100\n",
            "240/240 [==============================] - 0s 1ms/step - loss: 23.9150\n",
            "Epoch 21/100\n",
            "240/240 [==============================] - 0s 1ms/step - loss: 23.9654\n",
            "Epoch 22/100\n",
            "240/240 [==============================] - 0s 1ms/step - loss: 23.7983\n",
            "Epoch 23/100\n",
            "240/240 [==============================] - 0s 1ms/step - loss: 24.2778\n",
            "Epoch 24/100\n",
            "240/240 [==============================] - 0s 1ms/step - loss: 23.9661\n",
            "Epoch 25/100\n",
            "240/240 [==============================] - 0s 1ms/step - loss: 24.2532\n",
            "Epoch 26/100\n",
            "240/240 [==============================] - 0s 1ms/step - loss: 23.9578\n",
            "Epoch 27/100\n",
            "240/240 [==============================] - 0s 1ms/step - loss: 24.1353\n",
            "Epoch 28/100\n",
            "240/240 [==============================] - 0s 1ms/step - loss: 23.9290\n",
            "Epoch 29/100\n",
            "240/240 [==============================] - 0s 1ms/step - loss: 23.8752\n",
            "Epoch 30/100\n",
            "240/240 [==============================] - 0s 1ms/step - loss: 24.1184\n",
            "Epoch 31/100\n",
            "240/240 [==============================] - 0s 1ms/step - loss: 23.8172\n",
            "Epoch 32/100\n",
            "240/240 [==============================] - 0s 1ms/step - loss: 24.1233\n",
            "Epoch 33/100\n",
            "240/240 [==============================] - 0s 1ms/step - loss: 23.7735\n",
            "Epoch 34/100\n",
            "240/240 [==============================] - 0s 1ms/step - loss: 23.9240\n",
            "Epoch 35/100\n",
            "240/240 [==============================] - 0s 1ms/step - loss: 24.3966\n",
            "Epoch 36/100\n",
            "240/240 [==============================] - 0s 1ms/step - loss: 23.9000\n",
            "Epoch 37/100\n",
            "240/240 [==============================] - 0s 1ms/step - loss: 23.9490\n",
            "Epoch 38/100\n",
            "240/240 [==============================] - 0s 1ms/step - loss: 24.2301\n",
            "Epoch 39/100\n",
            "240/240 [==============================] - 0s 1ms/step - loss: 23.8287\n",
            "Epoch 40/100\n",
            "240/240 [==============================] - 0s 1ms/step - loss: 23.8730\n",
            "Epoch 41/100\n",
            "240/240 [==============================] - 0s 1ms/step - loss: 24.0049\n",
            "Epoch 42/100\n",
            "240/240 [==============================] - 0s 1ms/step - loss: 24.4655\n",
            "Epoch 43/100\n",
            "240/240 [==============================] - 0s 1ms/step - loss: 23.9079\n",
            "Epoch 44/100\n",
            "240/240 [==============================] - 0s 1ms/step - loss: 23.8092\n",
            "Epoch 45/100\n",
            "240/240 [==============================] - 0s 1ms/step - loss: 23.6880\n",
            "Epoch 46/100\n",
            "240/240 [==============================] - 0s 1ms/step - loss: 24.5242\n",
            "Epoch 47/100\n",
            "240/240 [==============================] - 0s 1ms/step - loss: 24.2874\n",
            "Epoch 48/100\n",
            "240/240 [==============================] - 0s 1ms/step - loss: 23.9693\n",
            "Epoch 49/100\n",
            "240/240 [==============================] - 0s 1ms/step - loss: 24.3582\n",
            "Epoch 50/100\n",
            "240/240 [==============================] - 0s 1ms/step - loss: 24.1407\n",
            "Epoch 51/100\n",
            "240/240 [==============================] - 0s 1ms/step - loss: 24.2341\n",
            "Epoch 52/100\n",
            "240/240 [==============================] - 0s 1ms/step - loss: 23.9035\n",
            "Epoch 53/100\n",
            "240/240 [==============================] - 0s 1ms/step - loss: 23.7536\n",
            "Epoch 54/100\n",
            "240/240 [==============================] - 0s 1ms/step - loss: 23.5558\n",
            "Epoch 55/100\n",
            "240/240 [==============================] - 0s 1ms/step - loss: 24.4503\n",
            "Epoch 56/100\n",
            "240/240 [==============================] - 0s 1ms/step - loss: 23.7979\n",
            "Epoch 57/100\n",
            "240/240 [==============================] - 0s 1ms/step - loss: 24.2686\n",
            "Epoch 58/100\n",
            "240/240 [==============================] - 0s 1ms/step - loss: 24.2289\n",
            "Epoch 59/100\n",
            "240/240 [==============================] - 0s 1ms/step - loss: 24.0179\n",
            "Epoch 60/100\n",
            "240/240 [==============================] - 0s 1ms/step - loss: 24.0016\n",
            "Epoch 61/100\n",
            "240/240 [==============================] - 0s 1ms/step - loss: 23.8786\n",
            "Epoch 62/100\n",
            "240/240 [==============================] - 0s 1ms/step - loss: 24.1188\n",
            "Epoch 63/100\n",
            "240/240 [==============================] - 0s 1ms/step - loss: 24.0846\n",
            "Epoch 64/100\n",
            "240/240 [==============================] - 0s 1ms/step - loss: 23.6572\n",
            "Epoch 65/100\n",
            "240/240 [==============================] - 0s 1ms/step - loss: 23.6861\n",
            "Epoch 66/100\n",
            "240/240 [==============================] - 0s 1ms/step - loss: 24.1219\n",
            "Epoch 67/100\n",
            "240/240 [==============================] - 0s 1ms/step - loss: 24.0994\n",
            "Epoch 68/100\n",
            "240/240 [==============================] - 0s 1ms/step - loss: 23.8571\n",
            "Epoch 69/100\n",
            "240/240 [==============================] - 0s 1ms/step - loss: 24.4695\n",
            "Epoch 70/100\n",
            "240/240 [==============================] - 0s 1ms/step - loss: 24.1256\n",
            "Epoch 71/100\n",
            "240/240 [==============================] - 0s 1ms/step - loss: 23.7143\n",
            "Epoch 72/100\n",
            "240/240 [==============================] - 0s 1ms/step - loss: 24.1286\n",
            "Epoch 73/100\n",
            "240/240 [==============================] - 0s 1ms/step - loss: 23.7609\n",
            "Epoch 74/100\n",
            "240/240 [==============================] - 0s 1ms/step - loss: 23.9692\n",
            "Epoch 75/100\n",
            "240/240 [==============================] - 0s 1ms/step - loss: 24.1690\n",
            "Epoch 76/100\n",
            "240/240 [==============================] - 0s 1ms/step - loss: 24.1478\n",
            "Epoch 77/100\n",
            "240/240 [==============================] - 0s 1ms/step - loss: 24.0100\n",
            "Epoch 78/100\n",
            "240/240 [==============================] - 0s 1ms/step - loss: 24.1556\n",
            "Epoch 79/100\n",
            "240/240 [==============================] - 0s 1ms/step - loss: 23.7429\n",
            "Epoch 80/100\n",
            "240/240 [==============================] - 0s 1ms/step - loss: 23.8198\n",
            "Epoch 81/100\n",
            "240/240 [==============================] - 0s 1ms/step - loss: 23.9357\n",
            "Epoch 82/100\n",
            "240/240 [==============================] - 0s 1ms/step - loss: 23.7450\n",
            "Epoch 83/100\n",
            "240/240 [==============================] - 0s 1ms/step - loss: 23.7002\n",
            "Epoch 84/100\n",
            "240/240 [==============================] - 0s 1ms/step - loss: 24.2451\n",
            "Epoch 85/100\n",
            "240/240 [==============================] - 0s 1ms/step - loss: 23.8405\n",
            "Epoch 86/100\n",
            "240/240 [==============================] - 0s 1ms/step - loss: 24.0015\n",
            "Epoch 87/100\n",
            "240/240 [==============================] - 0s 1ms/step - loss: 24.1456\n",
            "Epoch 88/100\n",
            "240/240 [==============================] - 0s 1ms/step - loss: 23.6217\n",
            "Epoch 89/100\n",
            "240/240 [==============================] - 0s 1ms/step - loss: 23.8890\n",
            "Epoch 90/100\n",
            "240/240 [==============================] - 0s 1ms/step - loss: 23.6241\n",
            "Epoch 91/100\n",
            "240/240 [==============================] - 0s 1ms/step - loss: 24.0929\n",
            "Epoch 92/100\n",
            "240/240 [==============================] - 0s 1ms/step - loss: 23.9395\n",
            "Epoch 93/100\n",
            "240/240 [==============================] - 0s 1ms/step - loss: 23.9200\n",
            "Epoch 94/100\n",
            "240/240 [==============================] - 0s 1ms/step - loss: 24.1119\n",
            "Epoch 95/100\n",
            "240/240 [==============================] - 0s 1ms/step - loss: 23.8538\n",
            "Epoch 96/100\n",
            "240/240 [==============================] - 0s 1ms/step - loss: 23.7426\n",
            "Epoch 97/100\n",
            "240/240 [==============================] - 0s 1ms/step - loss: 23.6837\n",
            "Epoch 98/100\n",
            "240/240 [==============================] - 0s 1ms/step - loss: 23.7792\n",
            "Epoch 99/100\n",
            "240/240 [==============================] - 0s 1ms/step - loss: 24.2275\n",
            "Epoch 100/100\n",
            "240/240 [==============================] - 0s 1ms/step - loss: 23.9171\n"
          ],
          "name": "stdout"
        },
        {
          "output_type": "execute_result",
          "data": {
            "text/plain": [
              "<tensorflow.python.keras.callbacks.History at 0x7ffa910544e0>"
            ]
          },
          "metadata": {
            "tags": []
          },
          "execution_count": 32
        }
      ]
    },
    {
      "cell_type": "markdown",
      "metadata": {
        "id": "0H0zKKNEBLD5",
        "colab_type": "text"
      },
      "source": [
        "### Predicting the results of the Test set"
      ]
    },
    {
      "cell_type": "code",
      "metadata": {
        "id": "yST_J9-IishJ",
        "colab_type": "code",
        "colab": {}
      },
      "source": [
        "y_pred = ann.predict(X_test)"
      ],
      "execution_count": 0,
      "outputs": []
    },
    {
      "cell_type": "code",
      "metadata": {
        "id": "W72e78Dwi-Cc",
        "colab_type": "code",
        "outputId": "57747214-f3d6-4340-be83-8d3c9f586916",
        "colab": {
          "base_uri": "https://localhost:8080/",
          "height": 146
        }
      },
      "source": [
        "np.set_printoptions(precision = 2)\n",
        "left = y_pred.reshape(len(y_pred),1)\n",
        "right = y_test.reshape(len(y_test),1)\n",
        "np.concatenate((left, right), 1)"
      ],
      "execution_count": 0,
      "outputs": [
        {
          "output_type": "execute_result",
          "data": {
            "text/plain": [
              "array([[431.57, 431.23],\n",
              "       [460.8 , 460.01],\n",
              "       [465.54, 461.14],\n",
              "       ...,\n",
              "       [472.73, 473.26],\n",
              "       [438.01, 438.  ],\n",
              "       [457.63, 463.28]])"
            ]
          },
          "metadata": {
            "tags": []
          },
          "execution_count": 57
        }
      ]
    }
  ]
}